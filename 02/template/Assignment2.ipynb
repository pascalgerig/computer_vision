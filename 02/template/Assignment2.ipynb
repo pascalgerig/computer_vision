{
 "cells": [
  {
   "cell_type": "markdown",
   "metadata": {},
   "source": [
    "# Assignment 2 - Epipolar Geometry and 3D Reconstruction \n",
    "\n",
    "First name:Gerig\n",
    "<br>\n",
    "Last name: Pascal\n",
    "<br>\n",
    "Matriculation number: 16-104-721"
   ]
  },
  {
   "cell_type": "code",
   "execution_count": 1,
   "metadata": {},
   "outputs": [],
   "source": [
    "%load_ext autoreload\n",
    "%autoreload 2\n",
    "%matplotlib inline\n",
    "import os\n",
    "\n",
    "import numpy as np\n",
    "from PIL import Image\n",
    "import ipyvolume as ipv\n",
    "import matplotlib.pyplot as plt\n",
    "import scipy.sparse as sparse\n",
    "from scipy.sparse.linalg import lsmr\n",
    "\n",
    "from utils import decompose_essential_matrix, infer_3d, ransac"
   ]
  },
  {
   "cell_type": "markdown",
   "metadata": {},
   "source": [
    "## Part II: 3D Model Reconstruction"
   ]
  },
  {
   "cell_type": "markdown",
   "metadata": {},
   "source": [
    "### Load matched points\n",
    "We provide a synthetic pair of images where noisy correspondences are known."
   ]
  },
  {
   "cell_type": "code",
   "execution_count": 2,
   "metadata": {},
   "outputs": [],
   "source": [
    "left = np.array(Image.open(os.path.join('MatchedPoints','left.jpg')), dtype=np.float32).mean(2)/255\n",
    "right = np.array(Image.open(os.path.join('MatchedPoints','right.jpg')), dtype=np.float32).mean(2)/255"
   ]
  },
  {
   "cell_type": "code",
   "execution_count": 3,
   "metadata": {},
   "outputs": [
    {
     "data": {
      "text/plain": [
       "Text(0.5, 1.0, 'Right image')"
      ]
     },
     "execution_count": 3,
     "metadata": {},
     "output_type": "execute_result"
    },
    {
     "data": {
      "image/png": "[encoded data removed]",
      "text/plain": [
       "<Figure size 432x288 with 2 Axes>"
      ]
     },
     "metadata": {
      "needs_background": "light"
     },
     "output_type": "display_data"
    }
   ],
   "source": [
    "plt.subplot(1,2,1)\n",
    "plt.imshow(left, cmap='gray')\n",
    "plt.title('Left image')\n",
    "plt.subplot(1,2,2)\n",
    "plt.imshow(right, cmap='gray')\n",
    "plt.title('Right image')"
   ]
  },
  {
   "cell_type": "code",
   "execution_count": 4,
   "metadata": {},
   "outputs": [],
   "source": [
    "ilias_username = \"z.m.matti\" # TODO\n",
    "#ilias_username = \"gerig.pascal.dominik\" # TODO\n",
    "\n",
    "A = np.loadtxt(f'MatchedPoints/Matched_Points_{ilias_username}.txt')"
   ]
  },
  {
   "cell_type": "code",
   "execution_count": 5,
   "metadata": {},
   "outputs": [],
   "source": [
    "M, N = A.shape\n",
    "leftPoints = np.concatenate((A[:,2:4].T, np.ones((1, M))), axis=0)\n",
    "rightPoints = np.concatenate((A[:,0:2].T, np.ones((1, M))), axis=0)"
   ]
  },
  {
   "cell_type": "markdown",
   "metadata": {},
   "source": [
    "### Calibration matrix and focal length from the given file"
   ]
  },
  {
   "cell_type": "code",
   "execution_count": 6,
   "metadata": {},
   "outputs": [],
   "source": [
    "fl = 4\n",
    "K = np.array([\n",
    "    [-83.33333, 0.00000, 250.00000],\n",
    "    [0.00000, -83.33333, 250.00000],\n",
    "    [0.00000, 0.00000,   1.00000],\n",
    "])\n",
    "\n",
    "I = K.copy()\n",
    "\n",
    "I[0,0] *= fl\n",
    "I[1,1] *= fl"
   ]
  },
  {
   "cell_type": "markdown",
   "metadata": {},
   "source": [
    "### Estimate Essential matrix E from F with RANSAC"
   ]
  },
  {
   "cell_type": "code",
   "execution_count": 24,
   "metadata": {},
   "outputs": [
    {
     "name": "stdout",
     "output_type": "stream",
     "text": [
      "Num outliers 3\n",
      "Estimated fundamental matrix: \n",
      "[[ 6.41789730e-08  1.93203495e-05 -7.48953467e-03]\n",
      " [ 3.34441230e-07 -2.71349095e-06 -1.82534816e-02]\n",
      " [-8.40377637e-05  1.36538859e-02  1.98019974e+00]]\n",
      "Estimated essential matrix: \n",
      "[[ 7.13099642e-03  2.14670533e+00  8.81134148e-01]\n",
      " [ 3.71601337e-02 -3.01498971e-01  6.28274775e+00]\n",
      " [-5.20576219e-03 -5.93519996e+00 -2.49848965e-04]]\n"
     ]
    }
   ],
   "source": [
    "good_threshold = 1 # TODO\n",
    "F, inliers = ransac(leftPoints, rightPoints, good_threshold)\n",
    "print('Num outliers', leftPoints.shape[1] - inliers.sum())\n",
    "assert np.linalg.matrix_rank(F) == 2\n",
    "print('Estimated fundamental matrix: ')\n",
    "print(F)\n",
    "\n",
    "# TODO: Estimate essential matrix E from F\n",
    "E = I.T @ F @ I\n",
    "\n",
    "print('Estimated essential matrix: ')\n",
    "print(E)"
   ]
  },
  {
   "cell_type": "markdown",
   "metadata": {},
   "source": [
    "### Compute rotation and translation between views"
   ]
  },
  {
   "cell_type": "code",
   "execution_count": 25,
   "metadata": {},
   "outputs": [
    {
     "name": "stdout",
     "output_type": "stream",
     "text": [
      "Estimated translation: \n",
      "[ 0.93020688 -0.13044473  0.34307336]\n",
      "Estimated rotation: \n",
      "[[ 9.28288103e-01  1.38077748e-01 -3.45276315e-01]\n",
      " [-1.29289899e-01  9.90421329e-01  4.84738473e-02]\n",
      " [ 3.48662186e-01 -3.56955807e-04  9.37248394e-01]]\n"
     ]
    }
   ],
   "source": [
    "# TODO: Compute rotation and translation between views. Complete decomposeE\n",
    "Il = np.linalg.solve(I, leftPoints[:, inliers])\n",
    "Ir = np.linalg.solve(I, rightPoints[:, inliers])\n",
    "\n",
    "Pl, Pr = decompose_essential_matrix(E, Il, Ir)\n",
    "\n",
    "print('Estimated translation: ')\n",
    "print(Pr[:,3])\n",
    "print('Estimated rotation: ')\n",
    "print(Pr[:,:3])"
   ]
  },
  {
   "cell_type": "markdown",
   "metadata": {},
   "source": [
    "### Estimate the 3D points"
   ]
  },
  {
   "cell_type": "code",
   "execution_count": 26,
   "metadata": {
    "pycharm": {
     "name": "#%%\n"
    }
   },
   "outputs": [
    {
     "data": {
      "application/vnd.jupyter.widget-view+json": {
       "model_id": "9bb213e88a534de7b6e4f4d717de35da",
       "version_major": 2,
       "version_minor": 0
      },
      "text/plain": [
       "VBox(children=(Figure(camera=PerspectiveCamera(fov=46.0, position=(0.0, 0.0, 2.0), projectionMatrix=(1.0, 0.0,…"
      ]
     },
     "metadata": {},
     "output_type": "display_data"
    }
   ],
   "source": [
    "x3D = infer_3d(Il, Ir, Pl, Pr)\n",
    "ipv.quickscatter(x=x3D[0,:], y=x3D[1,:], z=x3D[2,:])"
   ]
  },
  {
   "cell_type": "code",
   "execution_count": null,
   "metadata": {},
   "outputs": [],
   "source": []
  }
 ],
 "metadata": {
  "kernelspec": {
   "display_name": "Python 3 (ipykernel)",
   "language": "python",
   "name": "python3"
  },
  "language_info": {
   "codemirror_mode": {
    "name": "ipython",
    "version": 3
   },
   "file_extension": ".py",
   "mimetype": "text/x-python",
   "name": "python",
   "nbconvert_exporter": "python",
   "pygments_lexer": "ipython3",
   "version": "3.8.8"
  }
 },
 "nbformat": 4,
 "nbformat_minor": 4
}
