{
 "cells": [
  {
   "cell_type": "markdown",
   "metadata": {},
   "source": [
    "# Assignment 1 - Image Deblurring\n",
    "\n",
    "Name: <br>\n",
    "Matriculation number:"
   ]
  },
  {
   "cell_type": "code",
   "execution_count": 24,
   "metadata": {},
   "outputs": [],
   "source": [
    "import numpy as np\n",
    "import scipy.sparse as sp\n",
    "from PIL import Image\n",
    "import matplotlib.pyplot as plt\n",
    "from hessian_matrix import hessian_matrix\n",
    "from scipy.sparse.linalg import inv"
   ]
  },
  {
   "cell_type": "markdown",
   "metadata": {},
   "source": [
    "## Test Image\n",
    "\n",
    "You can use the following function to create a synthetic image:\n",
    "\n"
   ]
  },
  {
   "cell_type": "code",
   "execution_count": 25,
   "metadata": {},
   "outputs": [
    {
     "data": {
      "image/png": "[encoded data removed]",
      "text/plain": [
       "<Figure size 432x288 with 1 Axes>"
      ]
     },
     "metadata": {
      "needs_background": "light"
     },
     "output_type": "display_data"
    }
   ],
   "source": [
    "def create_random_binary_img_1():\n",
    "    \n",
    "    u = np.random.randint(1,2, 30*30).reshape(30,30).astype(float)\n",
    "\n",
    "    u[5:9,4:] = 0.5\n",
    "    u[3:5,4:] = 0\n",
    "    u[10:15,:10] = 0\n",
    "    u[10:15,15:] = 0.8\n",
    "    u[15:, 18:27] = 0.3\n",
    "\n",
    "    for i in range(10):\n",
    "        u[i+17,i+4:i+8]  = 0\n",
    "    \n",
    "    u[20:25:, 20:23] = 1    \n",
    "    u[20:28,4] = 0\n",
    "    u[20:28,3] = 0.3\n",
    "    u[20:28,2] = 0.7\n",
    "\n",
    "    return u\n",
    "\n",
    "sample_image = create_random_binary_img_1()\n",
    "\n",
    "plt.imshow(sample_image, cmap =\"gray\")\n",
    "plt.show()"
   ]
  },
  {
   "cell_type": "markdown",
   "metadata": {},
   "source": [
    "## hessian_matrix() function\n",
    "\n",
    "We provide the implementation of the hessian matrix for $k = 0, 1, 2, 3$.\n",
    "\n",
    "input variables: \n",
    "- u: your image\n",
    "- reg: regularization parameter\n",
    "- k: one of the four kernel types 0-3 \n",
    "\n",
    "Example usage:"
   ]
  },
  {
   "cell_type": "code",
   "execution_count": 26,
   "metadata": {},
   "outputs": [
    {
     "name": "stdout",
     "output_type": "stream",
     "text": [
      "[[ 4.  -2.   0.  -2.   0.   0.   0.   0.   0. ]\n",
      " [-2.   6.5 -2.   0.5 -2.   0.   0.   0.   0. ]\n",
      " [ 0.  -2.   4.5  0.   0.5 -2.   0.   0.   0. ]\n",
      " [-2.   0.5  0.   6.5 -2.   0.  -2.   0.   0. ]\n",
      " [ 0.  -2.   0.5 -2.   9.  -2.   0.5 -2.   0. ]\n",
      " [ 0.   0.  -2.   0.  -2.   6.5  0.   0.5 -2. ]\n",
      " [ 0.   0.   0.  -2.   0.5  0.   4.5 -2.   0. ]\n",
      " [ 0.   0.   0.   0.  -2.   0.5 -2.   6.5 -2. ]\n",
      " [ 0.   0.   0.   0.   0.  -2.   0.  -2.   4. ]]\n"
     ]
    }
   ],
   "source": [
    "u_ex = np.zeros(9).reshape(3,3)\n",
    "reg_ex = 1\n",
    "k_type_ex = 3\n",
    "A = hessian_matrix(u_ex, reg_ex, k_type_ex)\n",
    "A_n_t = A.toarray()\n",
    "print(A_n_t)"
   ]
  },
  {
   "cell_type": "markdown",
   "metadata": {},
   "source": [
    "## Implementation"
   ]
  },
  {
   "cell_type": "code",
   "execution_count": 105,
   "metadata": {},
   "outputs": [],
   "source": [
    "def get_data_term(u, g):\n",
    "    # This is the simplified version for my kernel (k1)\n",
    "    # The formula can be taken from the report\n",
    "    result = 0\n",
    "    for x in range(u.shape[0] - 1):\n",
    "        for y in range(u.shape[1] - 1):\n",
    "            result += (𝑔[x, y] - 0.5 * 𝑢[x + 1, y + 1] - 0.5 * 𝑢[x, y + 1])**2\n",
    "    return result"
   ]
  },
  {
   "cell_type": "code",
   "execution_count": 76,
   "metadata": {},
   "outputs": [],
   "source": [
    "def get_derivative_data_term(u, g):\n",
    "    \"\"\"\n",
    "    Given u and g, this calculates the derivative of the data term of our energy.\n",
    "    The formulas are from the report and covers all 9 different cases:\n",
    "    * 4 Corners\n",
    "    * 4 Edges\n",
    "    * Everything Else (= Pixels in the inner of the image)\n",
    "    \"\"\"\n",
    "    m = u.shape[0] - 1\n",
    "    n = u.shape[1] - 1\n",
    "    result = np.zeros(u.shape)\n",
    "    for x in range(u.shape[0]):\n",
    "        for y in range(u.shape[1]):\n",
    "            # Corners\n",
    "            if x == 0 and y == 0:\n",
    "                result[x,y] = 0\n",
    "            elif x == 0 and y == n:\n",
    "                result[x,y] = 0.5 * 𝑢[1, y] + 0.5 * 𝑢[0, y] - 𝑔[0, y - 1]\n",
    "            elif x == m and y == 0:\n",
    "                result[x,y] = 0\n",
    "            elif x == m and y == n:\n",
    "                result[x,y] = 0.5 * 𝑢[m, y] + 0.5 * 𝑢[m - 1, y] - 𝑔[m - 1, y - 1]\n",
    "            # Edges\n",
    "            elif x == 0:\n",
    "                result[x,y] = 0.5 * 𝑢[1, y] + 0.5 * 𝑢[0, y] - 𝑔[0, y - 1]\n",
    "            elif y == 0:\n",
    "                result[x,y] = 0\n",
    "            elif x == m:\n",
    "                result[x,y] = 0.5 * 𝑢[m, y] + 0.5 * 𝑢[m - 1, y] - 𝑔[m - 1, y - 1]\n",
    "            elif y == n:\n",
    "                result[x,y] = 𝑢[x, n] + 0.5 * 𝑢[x - 1, n] + 0.5 * 𝑢[x + 1, n] - 𝑔[x - 1, n - 1] - 𝑔[x, n - 1]\n",
    "            # Inside Image\n",
    "            else:\n",
    "                result[x,y] =  u[x, y] + 0.5 * u[x - 1, y] - 𝑔[x, y - 1] - 𝑔[x - 1, y - 1] + 0.5 * u[x + 1, y]\n",
    "    return result"
   ]
  },
  {
   "cell_type": "code",
   "execution_count": 94,
   "metadata": {},
   "outputs": [],
   "source": [
    "def get_derivative_gaussian_prior(u):\n",
    "    \"\"\"\n",
    "    Given u, this calculates the derivative of the gaussian prior.\n",
    "    The formulas are from the report and covers all 9 different cases:\n",
    "    * 4 Corners\n",
    "    * 4 Edges\n",
    "    * Everything Else (= Pixels in the inner of the image)\n",
    "    \"\"\"\n",
    "    m = u.shape[0] - 1\n",
    "    n = u.shape[1] - 1\n",
    "    result = np.zeros(u.shape)\n",
    "    for x in range(u.shape[0]):\n",
    "        for y in range(u.shape[1]):\n",
    "            # Corners\n",
    "            if x == 0 and y == 0:\n",
    "                result[x,y] = 2 * (2 * 𝑢[0, 0] - 𝑢[1, 0] - 𝑢[0, 1])\n",
    "            elif x == 0 and y == n:\n",
    "                result[x,y] = 2 * (2 * 𝑢[0, n] - 𝑢[1, n] - 𝑢[0, n - 1])\n",
    "            elif x == m and y == 0:\n",
    "                result[x,y] = 2 * (2 * 𝑢[m, 0] - 𝑢[m - 1, 0] - 𝑢[m, 1])\n",
    "            elif x == m and y == n:\n",
    "                result[x,y] = 2 * (2 * 𝑢[m, n] - 𝑢[m - 1, n] - 𝑢[m, n - 1])\n",
    "            # Edges\n",
    "            elif x == 0:\n",
    "                result[x,y] = 2 * (3 * 𝑢[0, y] - 𝑢[1, y] - 𝑢[0, y + 1] - 𝑢[0, y - 1])\n",
    "            elif y == 0:\n",
    "                result[x,y] = 2 * (3 * 𝑢[x, 0] - 𝑢[x - 1, 0] - 𝑢[x, 1] - 𝑢[x + 1, 0])\n",
    "            elif x == m:\n",
    "                result[x,y] = 2 * (3 * 𝑢[m, y] - 𝑢[m - 1, y] - 𝑢[m, y - 1] - 𝑢[m, y + 1])\n",
    "            elif y == n:\n",
    "                result[x,y] = 2 * (3 * 𝑢[x, n] - 𝑢[x, n - 1] - 𝑢[x - 1, n] - 𝑢[x + 1, n])\n",
    "            # Inside Image\n",
    "            else:\n",
    "                result[x,y] = 2 * (4 * 𝑢[x, y] - 𝑢[x - 1, y] - 𝑢[x + 1, y] - 𝑢[x, y + 1] - 𝑢[x, y - 1])\n",
    "    return result"
   ]
  },
  {
   "cell_type": "code",
   "execution_count": 75,
   "metadata": {},
   "outputs": [],
   "source": [
    "def get_derivative_anisotropic_total_variation(u):\n",
    "    \"\"\"\n",
    "    Given u, this calculates the derivative of the at variation.\n",
    "    The formulas are from the report and covers all 9 different cases:\n",
    "    * 4 Corners\n",
    "    * 4 Edges\n",
    "    * Everything Else (= Pixels in the inner of the image)\n",
    "    \"\"\"\n",
    "    m = u.shape[0] - 1\n",
    "    n = u.shape[1] - 1\n",
    "    result = np.zeros(u.shape)\n",
    "    for x in range(u.shape[0]):\n",
    "        for y in range(u.shape[1]):\n",
    "            # Corners\n",
    "            if x == 0 and y == 0:\n",
    "                result[x,y] = -np.𝑠𝑖𝑔𝑛(𝑢[1, 0] - 𝑢[0, 0]) - np.𝑠𝑖𝑔𝑛(𝑢[0, 1] - 𝑢[0, 0])\n",
    "            elif x == 0 and y == n:\n",
    "                result[x,y] = np.𝑠𝑖𝑔𝑛(𝑢[0, n] - 𝑢[0, n - 1]) - np.𝑠𝑖𝑔𝑛(𝑢[1, n] - 𝑢[0, n])\n",
    "            elif x == m and y == 0:\n",
    "                result[x,y] = np.𝑠𝑖𝑔𝑛(𝑢[m, 0] - 𝑢[m - 1, 0]) - np.𝑠𝑖𝑔𝑛(𝑢[m, 1] - 𝑢[m, 0])\n",
    "            elif x == m and y == n:\n",
    "                result[x,y] = np.𝑠𝑖𝑔𝑛(𝑢[m, n] - 𝑢[m, n - 1]) + np.𝑠𝑖𝑔𝑛(𝑢[m, n] - 𝑢[m - 1, n])\n",
    "            # Edges\n",
    "            elif x == 0:\n",
    "                result[x,y] = -np.𝑠𝑖𝑔𝑛(𝑢[1, y] - 𝑢[0, y]) - np.𝑠𝑖𝑔𝑛(𝑢[0, y + 1] - 𝑢[0, y]) + np.𝑠𝑖𝑔𝑛(𝑢[0, y] - 𝑢[0, y - 1])\n",
    "            elif y == 0:\n",
    "                result[x,y] = np.𝑠𝑖𝑔𝑛(𝑢[x, 0] - 𝑢[x - 1, 0]) - np.𝑠𝑖𝑔𝑛(𝑢[x, 1] - 𝑢[x, 0]) - np.𝑠𝑖𝑔𝑛(𝑢[x + 1, 0] - 𝑢[x, 0])\n",
    "            elif x == m:\n",
    "                result[x,y] = np.𝑠𝑖𝑔𝑛(𝑢[m, y] - 𝑢[m - 1, y]) + np.𝑠𝑖𝑔𝑛(𝑢[m, y] - 𝑢[m, y - 1]) - np.𝑠𝑖𝑔𝑛(𝑢[m, y + 1] - 𝑢[m, y])\n",
    "            elif y == n:\n",
    "                result[x,y] = np.𝑠𝑖𝑔𝑛(𝑢[x, n] - 𝑢[x, n - 1]) + np.𝑠𝑖𝑔𝑛(𝑢[x, n] - 𝑢[x - 1, n]) - np.𝑠𝑖𝑔𝑛(𝑢[x + 1, n] - 𝑢[x, n])\n",
    "            # Inside Image\n",
    "            else:\n",
    "                result[x,y] = np.sign(𝑢[x, y] - 𝑢[x - 1, y]) - np.sign(𝑢[x + 1, y] - 𝑢[x, y]) - np.sign(𝑢[x, y + 1] - 𝑢[x, y]) + np.sign(𝑢[x, y] - 𝑢[x, y - 1])\n",
    "    return result"
   ]
  },
  {
   "cell_type": "code",
   "execution_count": 121,
   "metadata": {},
   "outputs": [],
   "source": [
    "# TODO - we can get rid of the whole old/new stuff and just use one variable `u`\n",
    "def GD(g, reg_lambda = 0.01):\n",
    "    \"\"\"\n",
    "    Gradient Descent algorithm\n",
    "    g: grayscale blurry image of size (M, N)\n",
    "    reg_lambda: regularization parameter\n",
    "    \"\"\"\n",
    "    # Exit condition: finish up, once sum of squared distances of the derivative is smaller than this number\n",
    "    diff = 0.000001\n",
    "    \n",
    "    # Initially we start at g, but with the dimension of u\n",
    "    old = np.hstack((g,np.zeros((g.shape[0], 1))))\n",
    "    old = np.vstack((old, np.zeros((1, g.shape[1] + 1))))\n",
    "    new = np.zeros(old.shape)\n",
    "    \n",
    "    \"\"\"\n",
    "    Choose one of these three loop conditions:\n",
    "    1.) if you use No regularization\n",
    "    2.) if you use Gaussian Prior\n",
    "    3.) if you use AT Variation (I use a for loop, here since the exit condition does not properly converge in this scenario)\n",
    "    \"\"\"\n",
    "    #while(np.sum(np.power(get_derivative_data_term(old, g), 2)) > diff):\n",
    "    #while(np.sum(np.power(get_derivative_data_term(old, g) + reg_lambda * get_derivative_gaussian_prior(old), 2)) > diff):\n",
    "    for i in range(1000):\n",
    "        \"\"\"\n",
    "        Choose one of these three regularization parameters, this must match your selection of the loop conditions, otherwise nonesense will happen:\n",
    "        1.) if you use No regularization\n",
    "        2.) if you use Gaussian Prior\n",
    "        3.) if you use AT Variation\n",
    "        \"\"\"\n",
    "        # No Regularization:\n",
    "        #new = old - 0.1 * (get_derivative_data_term(old, g))                  \n",
    "        # Gaussian Prior:\n",
    "        #new = old - 0.1 * (get_derivative_data_term(old, g) + reg_lambda * get_derivative_gaussian_prior(old))\n",
    "        # AT Variation:\n",
    "        new = old - 0.1 * (get_derivative_data_term(old, g) + reg_lambda * get_derivative_anisotropic_total_variation(old))\n",
    "        old = new\n",
    "    return new"
   ]
  },
  {
   "cell_type": "code",
   "execution_count": 92,
   "metadata": {},
   "outputs": [],
   "source": [
    "def linearize(u, g, shape, reg_lambda):\n",
    "    \"\"\"\n",
    "    Locally linearize the gradient, and then return it as a linear system.\n",
    "    This works according to slide 66 of lec03-04_energy minimization.pdf\n",
    "    Notice that we flatten u, s.t. we have a reasonable linear system that we can solve.\n",
    "    \"\"\"\n",
    "    H = hessian_matrix(u.reshape(shape), reg_lambda, 1)\n",
    "    A = H\n",
    "    b = H * u - (get_derivative_data_term(u.reshape(shape), g) + reg_lambda * get_derivative_gaussian_prior(u.reshape(shape))).reshape(shape[0] * shape[1], 1)\n",
    "    return A, b"
   ]
  },
  {
   "cell_type": "code",
   "execution_count": 98,
   "metadata": {},
   "outputs": [],
   "source": [
    "def LGS(g, reg_lambda):\n",
    "    \"\"\"\n",
    "    Linearalized Gauss Seidel Algortihm\n",
    "    g: grayscale blurry image of size (M, N)\n",
    "    reg_lambda: regularization parameter\n",
    "    \"\"\"\n",
    "    # Exit condition: finish up, once sum of squared distances of the difference between current and previous u is smaller than this number\n",
    "    diff = 0.00001\n",
    "    \n",
    "    # Initially we start at g, but with the dimension of u\n",
    "    u = np.hstack((g,np.zeros((g.shape[0], 1))))\n",
    "    u = np.vstack((u, np.zeros((1, g.shape[1] + 1))))\n",
    "    shape = u.shape\n",
    "    \n",
    "    # flatten u, s.t. we can solve the linear system\n",
    "    u = u.reshape(shape[0] * shape[1], 1)\n",
    "    old = np.zeros(u.shape)\n",
    "    \n",
    "    # loop until difference is small enough\n",
    "    while(np.sum(np.power(old-u, 2)) > diff):\n",
    "        old = u\n",
    "        # get locally linearized gradient as a linear system\n",
    "        A, b = linearize(u, g, shape, reg_lambda)\n",
    "        # Split A into upper and lower triangular matrix\n",
    "        L = sp.tril(A, k=0)\n",
    "        U = sp.triu(A, k=1)\n",
    "        # Gauss-Seidel Iteration\n",
    "        u = inv(L) * (b - U * u)\n",
    "    return u.reshape(shape)"
   ]
  },
  {
   "cell_type": "code",
   "execution_count": 99,
   "metadata": {},
   "outputs": [],
   "source": [
    "def LSOR(g, reg_lambda, w):\n",
    "    \"\"\"\n",
    "    Linearized SOR Algorithm\n",
    "    g: grayscale blurry image of size (M, N)\n",
    "    reg_lambda: regularization parameter\n",
    "    w: SOR parameter\n",
    "    \"\"\"\n",
    "    # Exit condition: finish up, once sum of squared distances of the difference between current and previous u is smaller than this number\n",
    "    diff = 0.00001\n",
    "    \n",
    "    # Initially we start at g, but with the dimension of u\n",
    "    u = np.hstack((g,np.zeros((g.shape[0], 1))))\n",
    "    u = np.vstack((u, np.zeros((1, g.shape[1] + 1))))\n",
    "    shape = u.shape\n",
    "    \n",
    "    # flatten u, s.t. we can solve the linear system\n",
    "    u = u.reshape(shape[0] * shape[1], 1)\n",
    "    old = np.zeros(u.shape)\n",
    "    \n",
    "    # loop until difference is small enough\n",
    "    while(np.sum(np.power(old-u, 2)) > diff):\n",
    "        old = u\n",
    "        # get locally linearized gradient as a linear system\n",
    "        A, b = linearize(u, g, shape, reg_lambda)\n",
    "        # Split A into upper, lower triangular matrix and a diagonal matrix\n",
    "        U = sp.triu(A,k=1)\n",
    "        L = sp.tril(A,k=-1)\n",
    "        D = A - U - L\n",
    "        # SOR Iteration\n",
    "        u = inv(D + w*L) * (w*b - (w*U + (w-1)*D) * u)\n",
    "    return u.reshape(shape)"
   ]
  },
  {
   "cell_type": "markdown",
   "metadata": {},
   "source": [
    "### Parameters"
   ]
  },
  {
   "cell_type": "code",
   "execution_count": 151,
   "metadata": {},
   "outputs": [],
   "source": [
    "reg_lambda = 0.005#0.0075 # AT Variation\n",
    "#reg_lambda = 0.001 # Gaussian Prior\n",
    "# k matrix. Look below how to choose it \n",
    "k = 1\n"
   ]
  },
  {
   "cell_type": "markdown",
   "metadata": {},
   "source": [
    "$k =0 \\longrightarrow \\begin{bmatrix}\\frac{1}{2} & \\frac{1}{2} \\\\0&0\\end{bmatrix} \\hspace{1cm} k =1 \\longrightarrow  \\begin{bmatrix}\\frac{1}{2} & 0 \\\\\\frac{1}{2}&0\\end{bmatrix} \\hspace{1cm} k =2 \\longrightarrow \\begin{bmatrix}\\frac{1}{2} & 0 \\\\0&\\frac{1}{2}\\end{bmatrix}   \\hspace{1cm} k =3 \\longrightarrow \\begin{bmatrix}0 & \\frac{1}{2} \\\\ \\frac{1}{2}&0\\end{bmatrix}$\n",
    "\n"
   ]
  },
  {
   "cell_type": "markdown",
   "metadata": {},
   "source": [
    "# Reading image\n",
    "\n",
    "You are provided with only the synthetic image. \n",
    "The purpose of using a synthetic image is to see possible changes in the deblurred image after applying your algorithm. \n",
    "You can convolve the original image using the [scipy library](https://docs.scipy.org/doc/scipy/reference/generated/scipy.signal.convolve2d.html).\n",
    "Note that you must choose **valid** as the mode in your convolution."
   ]
  },
  {
   "cell_type": "code",
   "execution_count": 36,
   "metadata": {},
   "outputs": [],
   "source": [
    "def blur_with_kernel(image, kernel):\n",
    "    result = np.zeros((image.shape[0] - 1, image.shape[1] - 1))\n",
    "    for x in range(image.shape[0] - 1):\n",
    "        for y in range(image.shape[1] - 1):\n",
    "            for p in range(2):\n",
    "                for q in range(2):\n",
    "                    result[x,y] += kernel[p,q] * image[x - p + 1,y - q + 1] \n",
    "    return result"
   ]
  },
  {
   "cell_type": "code",
   "execution_count": 37,
   "metadata": {},
   "outputs": [],
   "source": [
    "img_org = sample_image = create_random_binary_img_1()\n",
    "\n",
    "# TODO: define the kernel matrix here\n",
    "kernel = np.array([[0.5, 0],[0.5, 0]])\n",
    "\n",
    "# TODO: blur this image\n",
    "img_blurred = blur_with_kernel(sample_image, kernel)"
   ]
  },
  {
   "cell_type": "markdown",
   "metadata": {},
   "source": [
    "## GRADIENT DESCENT"
   ]
  },
  {
   "cell_type": "code",
   "execution_count": 152,
   "metadata": {},
   "outputs": [
    {
     "data": {
      "image/png": "[encoded data removed]",
      "text/plain": [
       "<Figure size 1080x360 with 3 Axes>"
      ]
     },
     "metadata": {
      "needs_background": "light"
     },
     "output_type": "display_data"
    },
    {
     "name": "stdout",
     "output_type": "stream",
     "text": [
      "For lambda 0.00500\t \n",
      "k_type 1\n",
      "Loss Data Term =  0.004903251663514003\n",
      "Sum of Squared Distance: deblurred vs. original =  0.016318915845570478\n"
     ]
    }
   ],
   "source": [
    "# run gradient descent algorithm\n",
    "img_deblurred_gd = GD(img_blurred, reg_lambda)\n",
    "\n",
    "# for visualization purpose \n",
    "# img_deblurred_gd = np.clip(u_final_gd, 0, 1)\n",
    "\n",
    "\n",
    "plt.figure(figsize=(15, 5))\n",
    "ax1 = plt.subplot(1, 3, 1)\n",
    "plt.imshow(img_blurred, cmap='gray')\n",
    "ax2 = plt.subplot(1, 3, 2)\n",
    "plt.imshow(img_deblurred_gd, cmap='gray')\n",
    "ax3 = plt.subplot(1, 3, 3)\n",
    "plt.imshow(img_org, cmap='gray')\n",
    "\n",
    "ax1.set_title(\"Blurred Image\")\n",
    "ax2.set_title(\"Deblurred Image - GD\")\n",
    "ax3.set_title(\"Original - Sharp Image\")\n",
    "plt.show()\n",
    "\n",
    "print(f\"For lambda {reg_lambda:.5f}\\t \\nk_type {k:1d}\")\n",
    "\n",
    "# TODO: print the loss\n",
    "print(f\"Loss Data Term = \", get_data_term(img_deblurred_gd, img_blurred))\n",
    "\n",
    "# TODO: print the error\n",
    "print(\"Sum of Squared Distance: deblurred vs. original = \", np.sum(np.power(img_deblurred_gd - img_org, 2)))  "
   ]
  },
  {
   "cell_type": "markdown",
   "metadata": {},
   "source": [
    "## SOR"
   ]
  },
  {
   "cell_type": "code",
   "execution_count": 108,
   "metadata": {},
   "outputs": [
    {
     "data": {
      "image/png": "[encoded data removed]",
      "text/plain": [
       "<Figure size 1080x360 with 3 Axes>"
      ]
     },
     "metadata": {
      "needs_background": "light"
     },
     "output_type": "display_data"
    },
    {
     "name": "stdout",
     "output_type": "stream",
     "text": [
      "For lambda 0.00100\n",
      "Loss Data Term =  0.003243886445959716\n",
      "Sum of Squared Distance: deblurred vs. original =  1.1292578039273138\n"
     ]
    }
   ],
   "source": [
    "w = 1.1 #play with this\n",
    "\n",
    "# run LSOR algorithm\n",
    "img_deblurred_sor = LSOR(img_blurred, reg_lambda, w)\n",
    "\n",
    "\n",
    "plt.figure(figsize=(15, 5))\n",
    "ax1 = plt.subplot(1, 3, 1)\n",
    "plt.imshow(img_blurred, cmap='gray')\n",
    "ax2 = plt.subplot(1, 3, 2)\n",
    "plt.imshow(img_deblurred_sor, cmap='gray')\n",
    "ax3 = plt.subplot(1, 3, 3)\n",
    "plt.imshow(img_org,cmap='gray')\n",
    "\n",
    "ax1.set_title(\"Blurred Image\")\n",
    "ax2.set_title(\"Deblurred Image - LSOR\")\n",
    "ax3.set_title(\"Original - Sharp Image\")\n",
    "#plt.savefig(\"results_\"+str(k)+\".png\")\n",
    "plt.show()\n",
    "\n",
    "print(f\"For lambda {reg_lambda:.5f}\")\n",
    "\n",
    "# TODO: print the loss\n",
    "print(f\"Loss Data Term = \", get_data_term(img_deblurred_gd, img_blurred))\n",
    "\n",
    "# TODO: print the error\n",
    "print(\"Sum of Squared Distance: deblurred vs. original = \", np.sum(np.power(img_deblurred_gd - img_org, 2)))  "
   ]
  },
  {
   "cell_type": "markdown",
   "metadata": {},
   "source": [
    "## GAUSS - SEIDEL"
   ]
  },
  {
   "cell_type": "code",
   "execution_count": 109,
   "metadata": {},
   "outputs": [
    {
     "data": {
      "image/png": "[encoded data removed]",
      "text/plain": [
       "<Figure size 1080x360 with 3 Axes>"
      ]
     },
     "metadata": {
      "needs_background": "light"
     },
     "output_type": "display_data"
    },
    {
     "name": "stdout",
     "output_type": "stream",
     "text": [
      "For lambda 0.00100\n",
      "Loss Data Term =  0.003243886445959716\n",
      "Sum of Squared Distance: deblurred vs. original =  1.1292578039273138\n"
     ]
    }
   ],
   "source": [
    "nb_iter = 1\n",
    "\n",
    "# run LGS algorithm\n",
    "img_deblurred_gs = LGS(img_blurred, reg_lambda)\n",
    "\n",
    "\n",
    "plt.figure(figsize=(15, 5))\n",
    "ax1 = plt.subplot(1, 3, 1)\n",
    "plt.imshow(img_blurred, cmap='gray')\n",
    "ax2 = plt.subplot(1, 3, 2)\n",
    "plt.imshow(img_deblurred_gs, cmap='gray')\n",
    "ax3 = plt.subplot(1, 3, 3)\n",
    "plt.imshow(img_org, cmap='gray')\n",
    "\n",
    "ax1.set_title(\"Blurred Image\")\n",
    "ax2.set_title(\"Deblurred Image - LGS\")\n",
    "ax3.set_title(\"Original - Sharp Image\")\n",
    "plt.show()\n",
    "\n",
    "print(f\"For lambda {reg_lambda:.5f}\")\n",
    "\n",
    "# TODO: print the loss\n",
    "print(f\"Loss Data Term = \", get_data_term(img_deblurred_gd, img_blurred))\n",
    "\n",
    "# TODO: print the error\n",
    "print(\"Sum of Squared Distance: deblurred vs. original = \", np.sum(np.power(img_deblurred_gd - img_org, 2)))  "
   ]
  },
  {
   "cell_type": "code",
   "execution_count": null,
   "metadata": {},
   "outputs": [],
   "source": []
  }
 ],
 "metadata": {
  "kernelspec": {
   "display_name": "Python 3",
   "language": "python",
   "name": "python3"
  },
  "language_info": {
   "codemirror_mode": {
    "name": "ipython",
    "version": 3
   },
   "file_extension": ".py",
   "mimetype": "text/x-python",
   "name": "python",
   "nbconvert_exporter": "python",
   "pygments_lexer": "ipython3",
   "version": "3.8.8"
  }
 },
 "nbformat": 4,
 "nbformat_minor": 4
}
